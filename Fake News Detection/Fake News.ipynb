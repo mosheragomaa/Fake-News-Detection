{
 "cells": [
  {
   "cell_type": "code",
   "execution_count": 1,
   "id": "cca83c34",
   "metadata": {},
   "outputs": [],
   "source": [
    "import pandas as pd\n",
    "import numpy as np\n",
    "import re"
   ]
  },
  {
   "cell_type": "code",
   "execution_count": 2,
   "id": "97312e39",
   "metadata": {},
   "outputs": [],
   "source": [
    "df = pd.read_csv('news.csv')"
   ]
  },
  {
   "cell_type": "markdown",
   "id": "3ec9ed8e",
   "metadata": {},
   "source": [
    "### Looking at the data"
   ]
  },
  {
   "cell_type": "code",
   "execution_count": 3,
   "id": "8d8c586a",
   "metadata": {
    "scrolled": true
   },
   "outputs": [
    {
     "data": {
      "text/html": [
       "<div>\n",
       "<style scoped>\n",
       "    .dataframe tbody tr th:only-of-type {\n",
       "        vertical-align: middle;\n",
       "    }\n",
       "\n",
       "    .dataframe tbody tr th {\n",
       "        vertical-align: top;\n",
       "    }\n",
       "\n",
       "    .dataframe thead th {\n",
       "        text-align: right;\n",
       "    }\n",
       "</style>\n",
       "<table border=\"1\" class=\"dataframe\">\n",
       "  <thead>\n",
       "    <tr style=\"text-align: right;\">\n",
       "      <th></th>\n",
       "      <th>Unnamed: 0</th>\n",
       "      <th>title</th>\n",
       "      <th>text</th>\n",
       "      <th>label</th>\n",
       "    </tr>\n",
       "  </thead>\n",
       "  <tbody>\n",
       "    <tr>\n",
       "      <th>0</th>\n",
       "      <td>8476</td>\n",
       "      <td>You Can Smell Hillary’s Fear</td>\n",
       "      <td>Daniel Greenfield, a Shillman Journalism Fello...</td>\n",
       "      <td>FAKE</td>\n",
       "    </tr>\n",
       "    <tr>\n",
       "      <th>1</th>\n",
       "      <td>10294</td>\n",
       "      <td>Watch The Exact Moment Paul Ryan Committed Pol...</td>\n",
       "      <td>Google Pinterest Digg Linkedin Reddit Stumbleu...</td>\n",
       "      <td>FAKE</td>\n",
       "    </tr>\n",
       "    <tr>\n",
       "      <th>2</th>\n",
       "      <td>3608</td>\n",
       "      <td>Kerry to go to Paris in gesture of sympathy</td>\n",
       "      <td>U.S. Secretary of State John F. Kerry said Mon...</td>\n",
       "      <td>REAL</td>\n",
       "    </tr>\n",
       "    <tr>\n",
       "      <th>3</th>\n",
       "      <td>10142</td>\n",
       "      <td>Bernie supporters on Twitter erupt in anger ag...</td>\n",
       "      <td>— Kaydee King (@KaydeeKing) November 9, 2016 T...</td>\n",
       "      <td>FAKE</td>\n",
       "    </tr>\n",
       "    <tr>\n",
       "      <th>4</th>\n",
       "      <td>875</td>\n",
       "      <td>The Battle of New York: Why This Primary Matters</td>\n",
       "      <td>It's primary day in New York and front-runners...</td>\n",
       "      <td>REAL</td>\n",
       "    </tr>\n",
       "  </tbody>\n",
       "</table>\n",
       "</div>"
      ],
      "text/plain": [
       "   Unnamed: 0                                              title  \\\n",
       "0        8476                       You Can Smell Hillary’s Fear   \n",
       "1       10294  Watch The Exact Moment Paul Ryan Committed Pol...   \n",
       "2        3608        Kerry to go to Paris in gesture of sympathy   \n",
       "3       10142  Bernie supporters on Twitter erupt in anger ag...   \n",
       "4         875   The Battle of New York: Why This Primary Matters   \n",
       "\n",
       "                                                text label  \n",
       "0  Daniel Greenfield, a Shillman Journalism Fello...  FAKE  \n",
       "1  Google Pinterest Digg Linkedin Reddit Stumbleu...  FAKE  \n",
       "2  U.S. Secretary of State John F. Kerry said Mon...  REAL  \n",
       "3  — Kaydee King (@KaydeeKing) November 9, 2016 T...  FAKE  \n",
       "4  It's primary day in New York and front-runners...  REAL  "
      ]
     },
     "execution_count": 3,
     "metadata": {},
     "output_type": "execute_result"
    }
   ],
   "source": [
    "df.head()"
   ]
  },
  {
   "cell_type": "code",
   "execution_count": 4,
   "id": "fc710f4d",
   "metadata": {},
   "outputs": [
    {
     "data": {
      "text/plain": [
       "(6335, 4)"
      ]
     },
     "execution_count": 4,
     "metadata": {},
     "output_type": "execute_result"
    }
   ],
   "source": [
    "df.shape"
   ]
  },
  {
   "cell_type": "code",
   "execution_count": 5,
   "id": "e35f394a",
   "metadata": {},
   "outputs": [
    {
     "data": {
      "text/plain": [
       "Index(['Unnamed: 0', 'title', 'text', 'label'], dtype='object')"
      ]
     },
     "execution_count": 5,
     "metadata": {},
     "output_type": "execute_result"
    }
   ],
   "source": [
    "df.columns"
   ]
  },
  {
   "cell_type": "code",
   "execution_count": 6,
   "id": "bce74529",
   "metadata": {
    "scrolled": true
   },
   "outputs": [
    {
     "name": "stdout",
     "output_type": "stream",
     "text": [
      "<class 'pandas.core.frame.DataFrame'>\n",
      "RangeIndex: 6335 entries, 0 to 6334\n",
      "Data columns (total 4 columns):\n",
      " #   Column      Non-Null Count  Dtype \n",
      "---  ------      --------------  ----- \n",
      " 0   Unnamed: 0  6335 non-null   int64 \n",
      " 1   title       6335 non-null   object\n",
      " 2   text        6335 non-null   object\n",
      " 3   label       6335 non-null   object\n",
      "dtypes: int64(1), object(3)\n",
      "memory usage: 198.1+ KB\n"
     ]
    }
   ],
   "source": [
    "df.info()"
   ]
  },
  {
   "cell_type": "code",
   "execution_count": 7,
   "id": "190697b7",
   "metadata": {},
   "outputs": [
    {
     "data": {
      "text/html": [
       "<div>\n",
       "<style scoped>\n",
       "    .dataframe tbody tr th:only-of-type {\n",
       "        vertical-align: middle;\n",
       "    }\n",
       "\n",
       "    .dataframe tbody tr th {\n",
       "        vertical-align: top;\n",
       "    }\n",
       "\n",
       "    .dataframe thead th {\n",
       "        text-align: right;\n",
       "    }\n",
       "</style>\n",
       "<table border=\"1\" class=\"dataframe\">\n",
       "  <thead>\n",
       "    <tr style=\"text-align: right;\">\n",
       "      <th></th>\n",
       "      <th>data_type</th>\n",
       "      <th>data_type_grp</th>\n",
       "      <th>num_unique_values</th>\n",
       "      <th>sample_unique_values</th>\n",
       "      <th>num_missing</th>\n",
       "      <th>perc_missing</th>\n",
       "    </tr>\n",
       "  </thead>\n",
       "  <tbody>\n",
       "    <tr>\n",
       "      <th>Unnamed: 0</th>\n",
       "      <td>int64</td>\n",
       "      <td>Numerical</td>\n",
       "      <td>6335</td>\n",
       "      <td>[8476, 10294, 3608, 10142, 875, 6903, 7341, 95...</td>\n",
       "      <td>0</td>\n",
       "      <td>0.0</td>\n",
       "    </tr>\n",
       "    <tr>\n",
       "      <th>title</th>\n",
       "      <td>object</td>\n",
       "      <td>Categorical</td>\n",
       "      <td>6256</td>\n",
       "      <td>[You Can Smell Hillary’s Fear, Watch The Exact...</td>\n",
       "      <td>0</td>\n",
       "      <td>0.0</td>\n",
       "    </tr>\n",
       "    <tr>\n",
       "      <th>text</th>\n",
       "      <td>object</td>\n",
       "      <td>Categorical</td>\n",
       "      <td>6060</td>\n",
       "      <td>[Daniel Greenfield, a Shillman Journalism Fell...</td>\n",
       "      <td>0</td>\n",
       "      <td>0.0</td>\n",
       "    </tr>\n",
       "    <tr>\n",
       "      <th>label</th>\n",
       "      <td>object</td>\n",
       "      <td>Categorical</td>\n",
       "      <td>2</td>\n",
       "      <td>[FAKE, REAL]</td>\n",
       "      <td>0</td>\n",
       "      <td>0.0</td>\n",
       "    </tr>\n",
       "  </tbody>\n",
       "</table>\n",
       "</div>"
      ],
      "text/plain": [
       "           data_type data_type_grp num_unique_values  \\\n",
       "Unnamed: 0     int64     Numerical              6335   \n",
       "title         object   Categorical              6256   \n",
       "text          object   Categorical              6060   \n",
       "label         object   Categorical                 2   \n",
       "\n",
       "                                         sample_unique_values num_missing  \\\n",
       "Unnamed: 0  [8476, 10294, 3608, 10142, 875, 6903, 7341, 95...           0   \n",
       "title       [You Can Smell Hillary’s Fear, Watch The Exact...           0   \n",
       "text        [Daniel Greenfield, a Shillman Journalism Fell...           0   \n",
       "label                                            [FAKE, REAL]           0   \n",
       "\n",
       "           perc_missing  \n",
       "Unnamed: 0          0.0  \n",
       "title               0.0  \n",
       "text                0.0  \n",
       "label               0.0  "
      ]
     },
     "execution_count": 7,
     "metadata": {},
     "output_type": "execute_result"
    }
   ],
   "source": [
    "from fast_ml import eda\n",
    "\n",
    "summary_df = eda.df_info(df)\n",
    "summary_df"
   ]
  },
  {
   "cell_type": "code",
   "execution_count": 8,
   "id": "ff15d769",
   "metadata": {
    "scrolled": false
   },
   "outputs": [
    {
     "data": {
      "image/png": "[encoded data removed]",
      "text/plain": [
       "<Figure size 432x288 with 1 Axes>"
      ]
     },
     "metadata": {
      "needs_background": "light"
     },
     "output_type": "display_data"
    }
   ],
   "source": [
    "import seaborn as sns\n",
    "sns.countplot(x=df['label']);"
   ]
  },
  {
   "cell_type": "markdown",
   "id": "a187129c",
   "metadata": {},
   "source": [
    "Since the dataset labels are balanced, we can use accuracy as a metric"
   ]
  },
  {
   "cell_type": "code",
   "execution_count": 9,
   "id": "957838aa",
   "metadata": {
    "scrolled": true
   },
   "outputs": [
    {
     "data": {
      "text/plain": [
       "REAL    3171\n",
       "FAKE    3164\n",
       "Name: label, dtype: int64"
      ]
     },
     "execution_count": 9,
     "metadata": {},
     "output_type": "execute_result"
    }
   ],
   "source": [
    "df['label'].value_counts()"
   ]
  },
  {
   "cell_type": "code",
   "execution_count": 10,
   "id": "43e8ee73",
   "metadata": {},
   "outputs": [
    {
     "data": {
      "text/plain": [
       "0"
      ]
     },
     "execution_count": 10,
     "metadata": {},
     "output_type": "execute_result"
    }
   ],
   "source": [
    "df.duplicated().sum()"
   ]
  },
  {
   "cell_type": "code",
   "execution_count": 11,
   "id": "d245bf0b",
   "metadata": {},
   "outputs": [],
   "source": [
    "df = df.drop_duplicates()"
   ]
  },
  {
   "cell_type": "code",
   "execution_count": 12,
   "id": "34566e5f",
   "metadata": {},
   "outputs": [],
   "source": [
    "df['label'].replace('FAKE',1, inplace=True)\n",
    "df['label'].replace('REAL',0, inplace=True)"
   ]
  },
  {
   "cell_type": "code",
   "execution_count": 13,
   "id": "6e319545",
   "metadata": {},
   "outputs": [
    {
     "data": {
      "text/plain": [
       "0    3171\n",
       "1    3164\n",
       "Name: label, dtype: int64"
      ]
     },
     "execution_count": 13,
     "metadata": {},
     "output_type": "execute_result"
    }
   ],
   "source": [
    "df['label'].value_counts()"
   ]
  },
  {
   "cell_type": "code",
   "execution_count": 14,
   "id": "4333ca10",
   "metadata": {
    "scrolled": false
   },
   "outputs": [
    {
     "data": {
      "image/png": "[encoded data removed]",
      "text/plain": [
       "<Figure size 432x288 with 1 Axes>"
      ]
     },
     "metadata": {
      "needs_background": "light"
     },
     "output_type": "display_data"
    }
   ],
   "source": [
    "df['Unnamed: 0'].plot.hist();"
   ]
  },
  {
   "cell_type": "code",
   "execution_count": 15,
   "id": "b56acf38",
   "metadata": {
    "scrolled": true
   },
   "outputs": [
    {
     "data": {
      "text/plain": [
       "0"
      ]
     },
     "execution_count": 15,
     "metadata": {},
     "output_type": "execute_result"
    }
   ],
   "source": [
    "df['Unnamed: 0'].duplicated().sum()"
   ]
  },
  {
   "cell_type": "markdown",
   "id": "9bbf4e94",
   "metadata": {},
   "source": [
    "### Since it is a uniform distribution, we will consider this column as an ID for the dataset"
   ]
  },
  {
   "cell_type": "code",
   "execution_count": 16,
   "id": "c7645ae9",
   "metadata": {
    "scrolled": false
   },
   "outputs": [
    {
     "data": {
      "text/html": [
       "<div>\n",
       "<style scoped>\n",
       "    .dataframe tbody tr th:only-of-type {\n",
       "        vertical-align: middle;\n",
       "    }\n",
       "\n",
       "    .dataframe tbody tr th {\n",
       "        vertical-align: top;\n",
       "    }\n",
       "\n",
       "    .dataframe thead th {\n",
       "        text-align: right;\n",
       "    }\n",
       "</style>\n",
       "<table border=\"1\" class=\"dataframe\">\n",
       "  <thead>\n",
       "    <tr style=\"text-align: right;\">\n",
       "      <th></th>\n",
       "      <th>title</th>\n",
       "      <th>text</th>\n",
       "      <th>label</th>\n",
       "    </tr>\n",
       "  </thead>\n",
       "  <tbody>\n",
       "    <tr>\n",
       "      <th>0</th>\n",
       "      <td>You Can Smell Hillary’s Fear</td>\n",
       "      <td>Daniel Greenfield, a Shillman Journalism Fello...</td>\n",
       "      <td>1</td>\n",
       "    </tr>\n",
       "    <tr>\n",
       "      <th>1</th>\n",
       "      <td>Watch The Exact Moment Paul Ryan Committed Pol...</td>\n",
       "      <td>Google Pinterest Digg Linkedin Reddit Stumbleu...</td>\n",
       "      <td>1</td>\n",
       "    </tr>\n",
       "  </tbody>\n",
       "</table>\n",
       "</div>"
      ],
      "text/plain": [
       "                                               title  \\\n",
       "0                       You Can Smell Hillary’s Fear   \n",
       "1  Watch The Exact Moment Paul Ryan Committed Pol...   \n",
       "\n",
       "                                                text  label  \n",
       "0  Daniel Greenfield, a Shillman Journalism Fello...      1  \n",
       "1  Google Pinterest Digg Linkedin Reddit Stumbleu...      1  "
      ]
     },
     "execution_count": 16,
     "metadata": {},
     "output_type": "execute_result"
    }
   ],
   "source": [
    "df.drop(['Unnamed: 0'], axis=1, inplace=True)\n",
    "df.head(2)"
   ]
  },
  {
   "cell_type": "code",
   "execution_count": 17,
   "id": "773ac60d",
   "metadata": {},
   "outputs": [
    {
     "data": {
      "text/plain": [
       "0    Daniel Greenfield, a Shillman Journalism Fello...\n",
       "1    Google Pinterest Digg Linkedin Reddit Stumbleu...\n",
       "2    U.S. Secretary of State John F. Kerry said Mon...\n",
       "3    — Kaydee King (@KaydeeKing) November 9, 2016 T...\n",
       "4    It's primary day in New York and front-runners...\n",
       "Name: text, dtype: object"
      ]
     },
     "execution_count": 17,
     "metadata": {},
     "output_type": "execute_result"
    }
   ],
   "source": [
    "df['text'].head()"
   ]
  },
  {
   "cell_type": "code",
   "execution_count": 18,
   "id": "6dbd1b81",
   "metadata": {},
   "outputs": [],
   "source": [
    "def wordProcessing(text: str):\n",
    "    text = text.lower()\n",
    "    text = re.sub('[.,*,/,|,\\,$,#,@,,‘’,'',\"\",!,—,(),<,>,‹, ›, %,^,&,_,-,-,+,=,<,>,?,;,:]', ' ', text)\n",
    "    text = re.sub('[1,2,3,4,5,6,7,8,9,0]', ' ', text)\n",
    "    text = re.sub('www.', ' ', text)\n",
    "    return text"
   ]
  },
  {
   "cell_type": "code",
   "execution_count": 19,
   "id": "22c803df",
   "metadata": {},
   "outputs": [],
   "source": [
    "df['text'] = df['text'].apply(wordProcessing)"
   ]
  },
  {
   "cell_type": "code",
   "execution_count": 20,
   "id": "e59f66a7",
   "metadata": {
    "scrolled": true
   },
   "outputs": [
    {
     "data": {
      "text/plain": [
       "0    daniel greenfield  a shillman journalism fello...\n",
       "1    google pinterest digg linkedin reddit stumbleu...\n",
       "2    u s  secretary of state john f  kerry said mon...\n",
       "3      kaydee king   kaydeeking  november         t...\n",
       "4    it's primary day in new york and front runners...\n",
       "Name: text, dtype: object"
      ]
     },
     "execution_count": 20,
     "metadata": {},
     "output_type": "execute_result"
    }
   ],
   "source": [
    "df['text'].head()"
   ]
  },
  {
   "cell_type": "markdown",
   "id": "f8eef602",
   "metadata": {},
   "source": [
    "### Modeling on the data"
   ]
  },
  {
   "cell_type": "code",
   "execution_count": 21,
   "id": "367f5690",
   "metadata": {},
   "outputs": [],
   "source": [
    "x = df['text']\n",
    "y = df['label']"
   ]
  },
  {
   "cell_type": "code",
   "execution_count": 22,
   "id": "5631bc2e",
   "metadata": {},
   "outputs": [],
   "source": [
    "from sklearn.model_selection import train_test_split\n",
    "x_train, x_test,y_train, y_test = train_test_split(x, y, test_size=0.2)"
   ]
  },
  {
   "cell_type": "code",
   "execution_count": 23,
   "id": "2ed2347c",
   "metadata": {},
   "outputs": [
    {
     "data": {
      "text/plain": [
       "((5068,), (5068,), (1267,), (1267,))"
      ]
     },
     "execution_count": 23,
     "metadata": {},
     "output_type": "execute_result"
    }
   ],
   "source": [
    "x_train.shape, y_train.shape,x_test.shape, y_test.shape"
   ]
  },
  {
   "cell_type": "code",
   "execution_count": 24,
   "id": "6b5ab7b8",
   "metadata": {
    "scrolled": true
   },
   "outputs": [],
   "source": [
    "from sklearn.feature_extraction.text import TfidfVectorizer\n",
    "\n",
    "tfidf_vectorizer=TfidfVectorizer( stop_words ='english' ,max_df=0.7)\n",
    "\n",
    "tfidf_train=tfidf_vectorizer.fit_transform(x_train) \n",
    "tfidf_test=tfidf_vectorizer.transform(x_test)\n"
   ]
  },
  {
   "cell_type": "markdown",
   "id": "ff106738",
   "metadata": {},
   "source": [
    "### Implementing Logistic Regression"
   ]
  },
  {
   "cell_type": "code",
   "execution_count": 25,
   "id": "da6ceab1",
   "metadata": {},
   "outputs": [
    {
     "data": {
      "text/plain": [
       "LogisticRegression()"
      ]
     },
     "execution_count": 25,
     "metadata": {},
     "output_type": "execute_result"
    }
   ],
   "source": [
    "from sklearn.linear_model import LogisticRegression\n",
    "LR = LogisticRegression()\n",
    "LR.fit(tfidf_train, y_train)"
   ]
  },
  {
   "cell_type": "code",
   "execution_count": 26,
   "id": "34afe888",
   "metadata": {
    "scrolled": true
   },
   "outputs": [
    {
     "data": {
      "text/plain": [
       "0.9210734017363852"
      ]
     },
     "execution_count": 26,
     "metadata": {},
     "output_type": "execute_result"
    }
   ],
   "source": [
    "LR.score(tfidf_test, y_test)"
   ]
  },
  {
   "cell_type": "markdown",
   "id": "0ecba84a",
   "metadata": {},
   "source": [
    "### Implementing SVMs"
   ]
  },
  {
   "cell_type": "code",
   "execution_count": 27,
   "id": "ab497202",
   "metadata": {},
   "outputs": [],
   "source": [
    "from sklearn import svm\n",
    "svm_model = svm.SVC()"
   ]
  },
  {
   "cell_type": "code",
   "execution_count": 28,
   "id": "4e9c0fb3",
   "metadata": {},
   "outputs": [
    {
     "data": {
      "text/plain": [
       "SVC()"
      ]
     },
     "execution_count": 28,
     "metadata": {},
     "output_type": "execute_result"
    }
   ],
   "source": [
    "svm_model.fit(tfidf_train, y_train)"
   ]
  },
  {
   "cell_type": "code",
   "execution_count": 29,
   "id": "a41b7f7d",
   "metadata": {},
   "outputs": [
    {
     "data": {
      "text/plain": [
       "0.9297553275453828"
      ]
     },
     "execution_count": 29,
     "metadata": {},
     "output_type": "execute_result"
    }
   ],
   "source": [
    "svm_model.score(tfidf_test, y_test)\n"
   ]
  },
  {
   "cell_type": "markdown",
   "id": "f3c02691",
   "metadata": {},
   "source": [
    "### Implementing Decision Trees"
   ]
  },
  {
   "cell_type": "code",
   "execution_count": 30,
   "id": "a33535ad",
   "metadata": {},
   "outputs": [],
   "source": [
    "from sklearn.tree import DecisionTreeClassifier\n",
    "DT = DecisionTreeClassifier()"
   ]
  },
  {
   "cell_type": "code",
   "execution_count": 31,
   "id": "013f8cd2",
   "metadata": {},
   "outputs": [
    {
     "data": {
      "text/plain": [
       "DecisionTreeClassifier()"
      ]
     },
     "execution_count": 31,
     "metadata": {},
     "output_type": "execute_result"
    }
   ],
   "source": [
    "DT.fit(tfidf_train, y_train)"
   ]
  },
  {
   "cell_type": "code",
   "execution_count": 32,
   "id": "e5293a56",
   "metadata": {},
   "outputs": [
    {
     "data": {
      "text/plain": [
       "0.8113654301499605"
      ]
     },
     "execution_count": 32,
     "metadata": {},
     "output_type": "execute_result"
    }
   ],
   "source": [
    "DT.score(tfidf_test, y_test)"
   ]
  },
  {
   "cell_type": "markdown",
   "id": "abf56aa1",
   "metadata": {},
   "source": [
    "### Implementing Naive Bayes"
   ]
  },
  {
   "cell_type": "code",
   "execution_count": 33,
   "id": "291ea154",
   "metadata": {},
   "outputs": [
    {
     "data": {
      "text/plain": [
       "GaussianNB()"
      ]
     },
     "execution_count": 33,
     "metadata": {},
     "output_type": "execute_result"
    }
   ],
   "source": [
    "from sklearn.naive_bayes import GaussianNB\n",
    "nb = GaussianNB()\n",
    "nb.fit(tfidf_train.toarray(), y_train)"
   ]
  },
  {
   "cell_type": "code",
   "execution_count": 34,
   "id": "25281d16",
   "metadata": {
    "scrolled": true
   },
   "outputs": [
    {
     "data": {
      "text/plain": [
       "0.8176795580110497"
      ]
     },
     "execution_count": 34,
     "metadata": {},
     "output_type": "execute_result"
    }
   ],
   "source": [
    "nb.score(tfidf_test.toarray(), y_test)"
   ]
  },
  {
   "cell_type": "markdown",
   "id": "7408d9a7",
   "metadata": {},
   "source": [
    "### Implementing Random Forests"
   ]
  },
  {
   "cell_type": "code",
   "execution_count": 35,
   "id": "b728cf49",
   "metadata": {},
   "outputs": [
    {
     "data": {
      "text/plain": [
       "RandomForestClassifier()"
      ]
     },
     "execution_count": 35,
     "metadata": {},
     "output_type": "execute_result"
    }
   ],
   "source": [
    "from sklearn.ensemble import RandomForestClassifier\n",
    "clf = RandomForestClassifier()\n",
    "clf.fit(tfidf_train, y_train)"
   ]
  },
  {
   "cell_type": "code",
   "execution_count": 36,
   "id": "ffda7725",
   "metadata": {},
   "outputs": [
    {
     "data": {
      "text/plain": [
       "0.9123914759273876"
      ]
     },
     "execution_count": 36,
     "metadata": {},
     "output_type": "execute_result"
    }
   ],
   "source": [
    "clf.score(tfidf_test, y_test)"
   ]
  },
  {
   "cell_type": "markdown",
   "id": "398608cd",
   "metadata": {},
   "source": [
    "### Implementing Passive Aggressive"
   ]
  },
  {
   "cell_type": "code",
   "execution_count": 37,
   "id": "78a04285",
   "metadata": {},
   "outputs": [
    {
     "data": {
      "text/plain": [
       "PassiveAggressiveClassifier(C=0.5)"
      ]
     },
     "execution_count": 37,
     "metadata": {},
     "output_type": "execute_result"
    }
   ],
   "source": [
    "from sklearn.linear_model import PassiveAggressiveClassifier\n",
    "pa = PassiveAggressiveClassifier(C=0.5)\n",
    "pa.fit(tfidf_train,y_train)"
   ]
  },
  {
   "cell_type": "code",
   "execution_count": 38,
   "id": "57cd8792",
   "metadata": {
    "scrolled": true
   },
   "outputs": [
    {
     "data": {
      "text/plain": [
       "0.9408050513022889"
      ]
     },
     "execution_count": 38,
     "metadata": {},
     "output_type": "execute_result"
    }
   ],
   "source": [
    "pa.score(tfidf_test, y_test)"
   ]
  },
  {
   "cell_type": "code",
   "execution_count": 39,
   "id": "dbb5b6f8",
   "metadata": {},
   "outputs": [],
   "source": [
    "from sklearn.ensemble import VotingClassifier"
   ]
  },
  {
   "cell_type": "code",
   "execution_count": 40,
   "id": "a9b9a8df",
   "metadata": {},
   "outputs": [],
   "source": [
    "estimators = [('lr', LogisticRegression(random_state=42)), ('svc', svm.SVC(random_state=42)),\n",
    "              ('passive_aggressive',PassiveAggressiveClassifier(C=0.5, random_state=42))]\n",
    "voting_clf = VotingClassifier(estimators) "
   ]
  },
  {
   "cell_type": "code",
   "execution_count": 41,
   "id": "5c5db17d",
   "metadata": {},
   "outputs": [
    {
     "data": {
      "text/plain": [
       "VotingClassifier(estimators=[('lr', LogisticRegression(random_state=42)),\n",
       "                             ('svc', SVC(random_state=42)),\n",
       "                             ('passive_aggressive',\n",
       "                              PassiveAggressiveClassifier(C=0.5,\n",
       "                                                          random_state=42))])"
      ]
     },
     "execution_count": 41,
     "metadata": {},
     "output_type": "execute_result"
    }
   ],
   "source": [
    "voting_clf.fit(tfidf_train, y_train)"
   ]
  },
  {
   "cell_type": "code",
   "execution_count": 42,
   "id": "5072078e",
   "metadata": {},
   "outputs": [
    {
     "data": {
      "text/plain": [
       "0.9329123914759274"
      ]
     },
     "execution_count": 42,
     "metadata": {},
     "output_type": "execute_result"
    }
   ],
   "source": [
    "voting_clf.score(tfidf_test, y_test)"
   ]
  },
  {
   "cell_type": "markdown",
   "id": "831f6214",
   "metadata": {},
   "source": [
    "### Test Function"
   ]
  },
  {
   "cell_type": "code",
   "execution_count": 43,
   "id": "f74232f6",
   "metadata": {},
   "outputs": [],
   "source": [
    "def output_label(label: int):\n",
    "    if label == 0:\n",
    "        return \"Real News\"\n",
    "    elif label == 1:\n",
    "        return \"Fake News\"\n",
    "\n",
    "    \n",
    "def testing(news: str):\n",
    "    news = wordProcessing(news)\n",
    "    x = tfidf_vectorizer.transform([news])\n",
    "    pa_pred =  output_label(pa.predict(x)[0])\n",
    "    \n",
    "    print(\"Passive Aggressive pred:\",pa_pred)\n"
   ]
  },
  {
   "cell_type": "code",
   "execution_count": 46,
   "id": "b319361c",
   "metadata": {},
   "outputs": [
    {
     "name": "stdout",
     "output_type": "stream",
     "text": [
      "“The Justice Department must apply the same standard of law to Donald Trump as they would to any citizen,” said Rep. Adam Schiff, a committee member. “That’s what Attorney General Garland promised to do. And the country will hold the department to it.”\n",
      "Passive Aggressive pred: Real News\n"
     ]
    }
   ],
   "source": [
    "news = input()\n",
    "testing(news)"
   ]
  },
  {
   "cell_type": "code",
   "execution_count": null,
   "id": "b95b7c8a",
   "metadata": {},
   "outputs": [],
   "source": []
  }
 ],
 "metadata": {
  "kernelspec": {
   "display_name": "Python 3 (ipykernel)",
   "language": "python",
   "name": "python3"
  },
  "language_info": {
   "codemirror_mode": {
    "name": "ipython",
    "version": 3
   },
   "file_extension": ".py",
   "mimetype": "text/x-python",
   "name": "python",
   "nbconvert_exporter": "python",
   "pygments_lexer": "ipython3",
   "version": "3.7.13"
  }
 },
 "nbformat": 4,
 "nbformat_minor": 5
}
